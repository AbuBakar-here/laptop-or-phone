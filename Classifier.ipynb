{
 "cells": [
  {
   "cell_type": "markdown",
   "id": "impossible-insight",
   "metadata": {},
   "source": [
    "# Steps\n",
    "\n",
    "1. Data Preprocessing\n",
    "    ---> Remove Noise\n",
    "    ---> Create Train and Testing folder\n",
    "2. Use ImageDataGenerator\n",
    "    ---> Resize Images\n",
    "    ---> Scale Data\n",
    "    ---> And do some flipping, zooming, etc\n",
    "3. Create a Model\n",
    "4. Train Model\n",
    "5. Evaluate the Model"
   ]
  },
  {
   "cell_type": "code",
   "execution_count": 1,
   "id": "excellent-seven",
   "metadata": {},
   "outputs": [],
   "source": [
    "import os\n",
    "import numpy as np\n",
    "import pandas as pd\n",
    "import shutil\n",
    "from matplotlib.image import imread\n",
    "import matplotlib.pyplot as plt\n",
    "import seaborn as sns\n",
    "from tensorflow.keras.preprocessing.image import ImageDataGenerator\n",
    "from sklearn.metrics import classification_report, confusion_matrix\n",
    "from PIL import Image\n",
    "from tensorflow.keras.layers import Conv2D, MaxPool2D, Flatten, Dense, Dropout\n",
    "from tensorflow.keras.models import Sequential\n",
    "from tensorflow.keras.callbacks import EarlyStopping"
   ]
  },
  {
   "cell_type": "markdown",
   "id": "rational-bailey",
   "metadata": {},
   "source": [
    "## Data Preprocessing"
   ]
  },
  {
   "cell_type": "code",
   "execution_count": 13,
   "id": "handmade-indian",
   "metadata": {},
   "outputs": [
    {
     "data": {
      "text/plain": [
       "['laptop', 'phone']"
      ]
     },
     "execution_count": 13,
     "metadata": {},
     "output_type": "execute_result"
    }
   ],
   "source": [
    "os.listdir('raw_data')"
   ]
  },
  {
   "cell_type": "markdown",
   "id": "offshore-sperm",
   "metadata": {},
   "source": [
    "### Remove Noise"
   ]
  },
  {
   "cell_type": "code",
   "execution_count": 49,
   "id": "systematic-handy",
   "metadata": {},
   "outputs": [],
   "source": [
    "## We have to manually remove noise from data i.e if laptop category have another pictuer which does not resemble laptop\n",
    "# done"
   ]
  },
  {
   "cell_type": "markdown",
   "id": "grave-frequency",
   "metadata": {},
   "source": [
    "### Creating Train and Test"
   ]
  },
  {
   "cell_type": "code",
   "execution_count": 5,
   "id": "multiple-venice",
   "metadata": {},
   "outputs": [],
   "source": [
    "train_path = 'data/train/'\n",
    "test_path = 'data/test/'\n",
    "source_path = 'raw_data/'\n",
    "classes = ['phone/', 'laptop/']\n",
    "test_ratio = 0.2\n",
    "\n",
    "def move_to_train_and_test(train_path, test_path, source_path, class_name, test_ratio):\n",
    "    \n",
    "    phones = os.listdir(source_path + class_name)\n",
    "    test_size = int(test_ratio * len(phones))\n",
    "    test_data = phones[:test_size]\n",
    "    train_data = phones[test_size:]\n",
    "    \n",
    "    ### moving files to test\n",
    "    print(\"Moving test files....\")\n",
    "    \n",
    "    for file in test_data:\n",
    "        shutil.move(source_path + class_name + file, test_path + class_name + file)\n",
    "    \n",
    "    print(\"Finished Moving test files...\")\n",
    "        \n",
    "    ### moving files to train\n",
    "    print(\"Moving Train files....\")\n",
    "    \n",
    "    for file in train_data:\n",
    "        shutil.move(source_path + class_name + file, train_path + class_name + file)\n",
    "        \n",
    "    print(\"Finished Moving Train files.\")"
   ]
  },
  {
   "cell_type": "code",
   "execution_count": 48,
   "id": "automotive-destiny",
   "metadata": {},
   "outputs": [
    {
     "name": "stdout",
     "output_type": "stream",
     "text": [
      "Moving test files....\n",
      "Finished Moving test files...\n",
      "Moving Train files....\n",
      "Finished Moving Train files.\n",
      "Moving test files....\n",
      "Finished Moving test files...\n",
      "Moving Train files....\n",
      "Finished Moving Train files.\n"
     ]
    }
   ],
   "source": [
    "for i in classes:\n",
    "    move_to_train_and_test(train_path, test_path, source_path, i, test_ratio)"
   ]
  },
  {
   "cell_type": "markdown",
   "id": "composed-karaoke",
   "metadata": {},
   "source": [
    "## ImageDataGenerator"
   ]
  },
  {
   "cell_type": "markdown",
   "id": "sixth-partition",
   "metadata": {},
   "source": [
    "### Resize and Processing Images"
   ]
  },
  {
   "cell_type": "code",
   "execution_count": 22,
   "id": "constant-london",
   "metadata": {},
   "outputs": [],
   "source": [
    "dim1 = []\n",
    "dim2 = []\n",
    "products = ['phone']\n",
    "\n",
    "for product in products:\n",
    "    for file in os.listdir('raw_data/' + product):\n",
    "        img = imread('raw_data/' + product + '/' + file)\n",
    "        dim1.append(img.shape[0])\n",
    "        dim2.append(img.shape[1])"
   ]
  },
  {
   "cell_type": "code",
   "execution_count": 26,
   "id": "searching-celtic",
   "metadata": {},
   "outputs": [
    {
     "data": {
      "text/plain": [
       "<seaborn.axisgrid.JointGrid at 0x7fb82d897af0>"
      ]
     },
     "execution_count": 26,
     "metadata": {},
     "output_type": "execute_result"
    },
    {
     "data": {
      "text/plain": [
       "<Figure size 1080x576 with 0 Axes>"
      ]
     },
     "metadata": {},
     "output_type": "display_data"
    },
    {
     "data": {
      "image/png": "[encoded data removed]",
      "text/plain": [
       "<Figure size 432x432 with 3 Axes>"
      ]
     },
     "metadata": {
      "needs_background": "light"
     },
     "output_type": "display_data"
    }
   ],
   "source": [
    "plt.figure(figsize = (15, 8))\n",
    "sns.jointplot(x = dim1, y = dim2)"
   ]
  },
  {
   "cell_type": "code",
   "execution_count": 30,
   "id": "rubber-respondent",
   "metadata": {},
   "outputs": [
    {
     "data": {
      "text/plain": [
       "88.80972818311874"
      ]
     },
     "execution_count": 30,
     "metadata": {},
     "output_type": "execute_result"
    }
   ],
   "source": [
    "sum(dim1)/len(dim1)"
   ]
  },
  {
   "cell_type": "code",
   "execution_count": 31,
   "id": "gross-frontier",
   "metadata": {},
   "outputs": [
    {
     "data": {
      "text/plain": [
       "78.75011921793038"
      ]
     },
     "execution_count": 31,
     "metadata": {},
     "output_type": "execute_result"
    }
   ],
   "source": [
    "sum(dim2)/len(dim2)"
   ]
  },
  {
   "cell_type": "markdown",
   "id": "changed-people",
   "metadata": {},
   "source": [
    "**I will be Resizing them to 83x83 and you can try resizing them to 80x80**"
   ]
  },
  {
   "cell_type": "code",
   "execution_count": 3,
   "id": "logical-latest",
   "metadata": {},
   "outputs": [],
   "source": [
    "final_image_shape = (83, 83, 3)"
   ]
  },
  {
   "cell_type": "code",
   "execution_count": 3,
   "id": "anticipated-aircraft",
   "metadata": {},
   "outputs": [],
   "source": [
    "image_gen = ImageDataGenerator(\n",
    "            rescale=1./255,\n",
    "            shear_range=0.2,\n",
    "            zoom_range=0.2,\n",
    "            horizontal_flip=True)"
   ]
  },
  {
   "cell_type": "code",
   "execution_count": 6,
   "id": "based-radar",
   "metadata": {},
   "outputs": [
    {
     "name": "stdout",
     "output_type": "stream",
     "text": [
      "Found 3186 images belonging to 2 classes.\n"
     ]
    }
   ],
   "source": [
    "train_img_gen = image_gen.flow_from_directory(train_path,\n",
    "                                              target_size = final_image_shape[:2],\n",
    "                                              color_mode = 'rgb',\n",
    "                                              batch_size = 32,\n",
    "                                              class_mode = 'binary',\n",
    "                                              shuffle = True)"
   ]
  },
  {
   "cell_type": "code",
   "execution_count": 7,
   "id": "consolidated-cherry",
   "metadata": {},
   "outputs": [
    {
     "name": "stdout",
     "output_type": "stream",
     "text": [
      "Found 796 images belonging to 2 classes.\n"
     ]
    }
   ],
   "source": [
    "test_img_gen = image_gen.flow_from_directory(test_path,\n",
    "                                              target_size = final_image_shape[:2],\n",
    "                                              color_mode = 'rgb',\n",
    "                                              batch_size = 32,\n",
    "                                              class_mode = 'binary',\n",
    "                                              shuffle = False)"
   ]
  },
  {
   "cell_type": "markdown",
   "id": "vocal-liver",
   "metadata": {},
   "source": [
    "## Creating a Model"
   ]
  },
  {
   "cell_type": "code",
   "execution_count": 2,
   "id": "interstate-growing",
   "metadata": {},
   "outputs": [],
   "source": [
    "from tensorflow.keras.layers import Conv2D, MaxPool2D, Flatten, Dense, Dropout\n",
    "from tensorflow.keras.models import Sequential"
   ]
  },
  {
   "cell_type": "markdown",
   "id": "english-nicaragua",
   "metadata": {},
   "source": [
    "### Model Layers"
   ]
  },
  {
   "cell_type": "code",
   "execution_count": 4,
   "id": "original-maldives",
   "metadata": {},
   "outputs": [],
   "source": [
    "model = Sequential()\n",
    "\n",
    "model.add(Conv2D(filters = 32, kernel_size = (3, 1), input_shape = final_image_shape, activation = 'relu'))\n",
    "model.add(Conv2D(filters = 32, kernel_size = (1, 3), activation = 'relu'))\n",
    "model.add(MaxPool2D(pool_size = (2, 2)))\n",
    "\n",
    "model.add(Conv2D(filters = 64, kernel_size = (3, 1), activation = 'relu'))\n",
    "model.add(Conv2D(filters = 64, kernel_size = (1, 3), activation = 'relu'))\n",
    "model.add(MaxPool2D(pool_size = (2, 2)))\n",
    "\n",
    "model.add(Conv2D(filters = 64, kernel_size = (3, 1), activation = 'relu'))\n",
    "model.add(Conv2D(filters = 64, kernel_size = (1, 3), activation = 'relu'))\n",
    "model.add(MaxPool2D(pool_size = (2, 2)))\n",
    "\n",
    "model.add(Flatten())\n",
    "\n",
    "model.add(Dense(units = 128, activation = 'relu'))\n",
    "model.add(Dropout(rate = 0.5))\n",
    "\n",
    "model.add(Dense(units = 1, activation = 'sigmoid'))\n",
    "\n",
    "model.compile(loss = 'binary_crossentropy', optimizer = 'adam', metrics = ['accuracy'])"
   ]
  },
  {
   "cell_type": "code",
   "execution_count": 5,
   "id": "dietary-watts",
   "metadata": {},
   "outputs": [
    {
     "name": "stdout",
     "output_type": "stream",
     "text": [
      "Model: \"sequential\"\n",
      "_________________________________________________________________\n",
      "Layer (type)                 Output Shape              Param #   \n",
      "=================================================================\n",
      "conv2d (Conv2D)              (None, 81, 83, 32)        320       \n",
      "_________________________________________________________________\n",
      "conv2d_1 (Conv2D)            (None, 81, 81, 32)        3104      \n",
      "_________________________________________________________________\n",
      "max_pooling2d (MaxPooling2D) (None, 40, 40, 32)        0         \n",
      "_________________________________________________________________\n",
      "conv2d_2 (Conv2D)            (None, 38, 40, 64)        6208      \n",
      "_________________________________________________________________\n",
      "conv2d_3 (Conv2D)            (None, 38, 38, 64)        12352     \n",
      "_________________________________________________________________\n",
      "max_pooling2d_1 (MaxPooling2 (None, 19, 19, 64)        0         \n",
      "_________________________________________________________________\n",
      "conv2d_4 (Conv2D)            (None, 17, 19, 64)        12352     \n",
      "_________________________________________________________________\n",
      "conv2d_5 (Conv2D)            (None, 17, 17, 64)        12352     \n",
      "_________________________________________________________________\n",
      "max_pooling2d_2 (MaxPooling2 (None, 8, 8, 64)          0         \n",
      "_________________________________________________________________\n",
      "flatten (Flatten)            (None, 4096)              0         \n",
      "_________________________________________________________________\n",
      "dense (Dense)                (None, 128)               524416    \n",
      "_________________________________________________________________\n",
      "dropout (Dropout)            (None, 128)               0         \n",
      "_________________________________________________________________\n",
      "dense_1 (Dense)              (None, 1)                 129       \n",
      "=================================================================\n",
      "Total params: 571,233\n",
      "Trainable params: 571,233\n",
      "Non-trainable params: 0\n",
      "_________________________________________________________________\n"
     ]
    }
   ],
   "source": [
    "model.summary()"
   ]
  },
  {
   "cell_type": "markdown",
   "id": "naked-moscow",
   "metadata": {},
   "source": [
    "### Callbacks"
   ]
  },
  {
   "cell_type": "code",
   "execution_count": 10,
   "id": "unique-schedule",
   "metadata": {},
   "outputs": [],
   "source": [
    "from tensorflow.keras.callbacks import EarlyStopping"
   ]
  },
  {
   "cell_type": "code",
   "execution_count": 11,
   "id": "concerned-albert",
   "metadata": {},
   "outputs": [],
   "source": [
    "earlystop = EarlyStopping(monitor = 'val_loss', patience = 2)"
   ]
  },
  {
   "cell_type": "markdown",
   "id": "manual-protocol",
   "metadata": {},
   "source": [
    "### Training"
   ]
  },
  {
   "cell_type": "code",
   "execution_count": 135,
   "id": "qualified-strengthening",
   "metadata": {},
   "outputs": [
    {
     "name": "stdout",
     "output_type": "stream",
     "text": [
      "Epoch 1/30\n",
      "100/100 [==============================] - 58s 568ms/step - loss: 0.6936 - accuracy: 0.4983 - val_loss: 0.6769 - val_accuracy: 0.5264\n",
      "Epoch 2/30\n",
      "100/100 [==============================] - 54s 540ms/step - loss: 0.6563 - accuracy: 0.5934 - val_loss: 0.5597 - val_accuracy: 0.7312\n",
      "Epoch 3/30\n",
      "100/100 [==============================] - 54s 536ms/step - loss: 0.5362 - accuracy: 0.7197 - val_loss: 0.5617 - val_accuracy: 0.6910\n",
      "Epoch 4/30\n",
      "100/100 [==============================] - 54s 540ms/step - loss: 0.5155 - accuracy: 0.7506 - val_loss: 0.4413 - val_accuracy: 0.8003\n",
      "Epoch 5/30\n",
      "100/100 [==============================] - 54s 539ms/step - loss: 0.4315 - accuracy: 0.8057 - val_loss: 0.4573 - val_accuracy: 0.7915\n",
      "Epoch 6/30\n",
      "100/100 [==============================] - 54s 535ms/step - loss: 0.4424 - accuracy: 0.7886 - val_loss: 0.4284 - val_accuracy: 0.8141\n",
      "Epoch 7/30\n",
      "100/100 [==============================] - 54s 536ms/step - loss: 0.3930 - accuracy: 0.8258 - val_loss: 0.4387 - val_accuracy: 0.7814\n",
      "Epoch 8/30\n",
      "100/100 [==============================] - 54s 536ms/step - loss: 0.3889 - accuracy: 0.8209 - val_loss: 0.3872 - val_accuracy: 0.8392\n",
      "Epoch 9/30\n",
      "100/100 [==============================] - 55s 545ms/step - loss: 0.3436 - accuracy: 0.8470 - val_loss: 0.3560 - val_accuracy: 0.8392\n",
      "Epoch 10/30\n",
      "100/100 [==============================] - 55s 553ms/step - loss: 0.3106 - accuracy: 0.8606 - val_loss: 0.3418 - val_accuracy: 0.8455\n",
      "Epoch 11/30\n",
      "100/100 [==============================] - 53s 533ms/step - loss: 0.3221 - accuracy: 0.8680 - val_loss: 0.4098 - val_accuracy: 0.8153\n",
      "Epoch 12/30\n",
      "100/100 [==============================] - 54s 539ms/step - loss: 0.3392 - accuracy: 0.8515 - val_loss: 0.3214 - val_accuracy: 0.8505\n",
      "Epoch 13/30\n",
      "100/100 [==============================] - 55s 546ms/step - loss: 0.3046 - accuracy: 0.8738 - val_loss: 0.3079 - val_accuracy: 0.8744\n",
      "Epoch 14/30\n",
      "100/100 [==============================] - 55s 551ms/step - loss: 0.2901 - accuracy: 0.8779 - val_loss: 0.4513 - val_accuracy: 0.8065\n",
      "Epoch 15/30\n",
      "100/100 [==============================] - 55s 549ms/step - loss: 0.2963 - accuracy: 0.8761 - val_loss: 0.3174 - val_accuracy: 0.8593\n"
     ]
    },
    {
     "data": {
      "text/plain": [
       "<tensorflow.python.keras.callbacks.History at 0x7f2874756d90>"
      ]
     },
     "execution_count": 135,
     "metadata": {},
     "output_type": "execute_result"
    }
   ],
   "source": [
    "model.fit(train_img_gen, epochs = 30, validation_data = test_img_gen, callbacks = [earlystop])"
   ]
  },
  {
   "cell_type": "code",
   "execution_count": 133,
   "id": "integral-patent",
   "metadata": {},
   "outputs": [],
   "source": [
    "model.save(\"Trained.h5\")"
   ]
  },
  {
   "cell_type": "markdown",
   "id": "animated-conflict",
   "metadata": {},
   "source": [
    "## Evaluation"
   ]
  },
  {
   "cell_type": "code",
   "execution_count": 132,
   "id": "through-tutorial",
   "metadata": {},
   "outputs": [],
   "source": [
    "metrics = pd.DataFrame(model.history.history)"
   ]
  },
  {
   "cell_type": "code",
   "execution_count": 123,
   "id": "mighty-wound",
   "metadata": {},
   "outputs": [
    {
     "data": {
      "text/plain": [
       "<AxesSubplot:>"
      ]
     },
     "execution_count": 123,
     "metadata": {},
     "output_type": "execute_result"
    },
    {
     "data": {
      "image/png": "[encoded data removed]",
      "text/plain": [
       "<Figure size 432x288 with 1 Axes>"
      ]
     },
     "metadata": {
      "needs_background": "light"
     },
     "output_type": "display_data"
    }
   ],
   "source": [
    "metrics[['loss', 'val_loss']].plot()"
   ]
  },
  {
   "cell_type": "code",
   "execution_count": 71,
   "id": "august-portable",
   "metadata": {},
   "outputs": [
    {
     "data": {
      "text/plain": [
       "<AxesSubplot:>"
      ]
     },
     "execution_count": 71,
     "metadata": {},
     "output_type": "execute_result"
    },
    {
     "data": {
      "image/png": "[encoded data removed]",
      "text/plain": [
       "<Figure size 432x288 with 1 Axes>"
      ]
     },
     "metadata": {
      "needs_background": "light"
     },
     "output_type": "display_data"
    }
   ],
   "source": [
    "metrics[['accuracy', 'val_accuracy']].plot()"
   ]
  },
  {
   "cell_type": "code",
   "execution_count": 138,
   "id": "administrative-pleasure",
   "metadata": {},
   "outputs": [],
   "source": [
    "predictions = model.predict(test_img_gen)"
   ]
  },
  {
   "cell_type": "code",
   "execution_count": 139,
   "id": "registered-converter",
   "metadata": {},
   "outputs": [],
   "source": [
    "predictions = (predictions > 0.5).astype('int16')"
   ]
  },
  {
   "cell_type": "code",
   "execution_count": 126,
   "id": "altered-spank",
   "metadata": {},
   "outputs": [
    {
     "name": "stdout",
     "output_type": "stream",
     "text": [
      "              precision    recall  f1-score   support\n",
      "\n",
      "           0       0.90      0.85      0.88       377\n",
      "           1       0.87      0.92      0.89       419\n",
      "\n",
      "    accuracy                           0.89       796\n",
      "   macro avg       0.89      0.88      0.88       796\n",
      "weighted avg       0.89      0.89      0.89       796\n",
      "\n"
     ]
    }
   ],
   "source": [
    "print(classification_report(test_img_gen.classes, predictions))"
   ]
  },
  {
   "cell_type": "code",
   "execution_count": 127,
   "id": "upset-advertising",
   "metadata": {},
   "outputs": [
    {
     "data": {
      "text/plain": [
       "array([[321,  56],\n",
       "       [ 35, 384]])"
      ]
     },
     "execution_count": 127,
     "metadata": {},
     "output_type": "execute_result"
    }
   ],
   "source": [
    "confusion_matrix(test_img_gen.classes, predictions)"
   ]
  },
  {
   "cell_type": "markdown",
   "id": "welcome-letter",
   "metadata": {},
   "source": [
    "## Predicting on a new Image"
   ]
  },
  {
   "cell_type": "code",
   "execution_count": 28,
   "id": "individual-breakfast",
   "metadata": {},
   "outputs": [],
   "source": [
    "testing_img = plt.imread('test/1.jpg')"
   ]
  },
  {
   "cell_type": "code",
   "execution_count": 29,
   "id": "offshore-roman",
   "metadata": {},
   "outputs": [
    {
     "data": {
      "text/plain": [
       "(3120, 4160, 3)"
      ]
     },
     "execution_count": 29,
     "metadata": {},
     "output_type": "execute_result"
    }
   ],
   "source": [
    "testing_img.shape"
   ]
  },
  {
   "cell_type": "code",
   "execution_count": 113,
   "id": "affected-standard",
   "metadata": {},
   "outputs": [
    {
     "data": {
      "text/plain": [
       "{'laptop': 0, 'phone': 1}"
      ]
     },
     "execution_count": 113,
     "metadata": {},
     "output_type": "execute_result"
    }
   ],
   "source": [
    "test_img_gen.class_indices"
   ]
  },
  {
   "cell_type": "code",
   "execution_count": 42,
   "id": "quarterly-chapel",
   "metadata": {},
   "outputs": [],
   "source": [
    "img = Image.open('test/1.jpg').resize(final_image_shape[:2])"
   ]
  },
  {
   "cell_type": "code",
   "execution_count": 43,
   "id": "impressive-genetics",
   "metadata": {},
   "outputs": [],
   "source": [
    "test_laptop_img = np.array(img).reshape(1, 83, 83, 3)/255"
   ]
  },
  {
   "cell_type": "code",
   "execution_count": 44,
   "id": "ranging-carter",
   "metadata": {},
   "outputs": [
    {
     "data": {
      "text/plain": [
       "array([[0.08315828]], dtype=float32)"
      ]
     },
     "execution_count": 44,
     "metadata": {},
     "output_type": "execute_result"
    }
   ],
   "source": [
    "model.predict(test_laptop_img)"
   ]
  },
  {
   "cell_type": "code",
   "execution_count": 35,
   "id": "cellular-petersburg",
   "metadata": {},
   "outputs": [],
   "source": [
    "img = Image.open('test/2.jpg').resize(final_image_shape[:2])"
   ]
  },
  {
   "cell_type": "code",
   "execution_count": 38,
   "id": "painful-bulletin",
   "metadata": {},
   "outputs": [],
   "source": [
    "test_phone_img = np.array(img).reshape(1, 83, 83, 3)/255"
   ]
  },
  {
   "cell_type": "code",
   "execution_count": 39,
   "id": "external-grenada",
   "metadata": {},
   "outputs": [
    {
     "data": {
      "text/plain": [
       "array([[0.98503625]], dtype=float32)"
      ]
     },
     "execution_count": 39,
     "metadata": {},
     "output_type": "execute_result"
    }
   ],
   "source": [
    "model.predict(test_phone_img)"
   ]
  },
  {
   "cell_type": "markdown",
   "id": "norman-california",
   "metadata": {},
   "source": [
    "## Deployment"
   ]
  },
  {
   "cell_type": "markdown",
   "id": "least-schema",
   "metadata": {},
   "source": [
    "### Prediction Function"
   ]
  },
  {
   "cell_type": "code",
   "execution_count": 144,
   "id": "increased-technique",
   "metadata": {},
   "outputs": [],
   "source": [
    "def return_prediction(model, image):\n",
    "    \n",
    "    # Preprocess image\n",
    "    img = Image.open(image).resize((83, 83))\n",
    "    img = np.array(img).reshape(1, 83, 83, 3)\n",
    "    \n",
    "    # Predict the class\n",
    "    classes = ['laptop', 'phone']\n",
    "    class_ind = int(model.predict(img))\n",
    "    \n",
    "    # return prediction\n",
    "    return classes[class_ind]"
   ]
  },
  {
   "cell_type": "code",
   "execution_count": 146,
   "id": "suitable-devil",
   "metadata": {},
   "outputs": [
    {
     "data": {
      "text/plain": [
       "'phone'"
      ]
     },
     "execution_count": 146,
     "metadata": {},
     "output_type": "execute_result"
    }
   ],
   "source": [
    "return_prediction(model, 'test/2.jpg')"
   ]
  }
 ],
 "metadata": {
  "kernelspec": {
   "display_name": "Python 3",
   "language": "python",
   "name": "python3"
  },
  "language_info": {
   "codemirror_mode": {
    "name": "ipython",
    "version": 3
   },
   "file_extension": ".py",
   "mimetype": "text/x-python",
   "name": "python",
   "nbconvert_exporter": "python",
   "pygments_lexer": "ipython3",
   "version": "3.8.10"
  }
 },
 "nbformat": 4,
 "nbformat_minor": 5
}
